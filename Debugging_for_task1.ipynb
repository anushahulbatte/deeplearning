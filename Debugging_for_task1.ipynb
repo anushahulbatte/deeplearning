{
  "nbformat": 4,
  "nbformat_minor": 0,
  "metadata": {
    "colab": {
      "provenance": [],
      "authorship_tag": "ABX9TyOsqKqUqN4VLuTV/8Ai/g8o",
      "include_colab_link": true
    },
    "kernelspec": {
      "name": "python3",
      "display_name": "Python 3"
    },
    "language_info": {
      "name": "python"
    }
  },
  "cells": [
    {
      "cell_type": "markdown",
      "metadata": {
        "id": "view-in-github",
        "colab_type": "text"
      },
      "source": [
        "<a href=\"https://colab.research.google.com/github/anushahulbatte/deeplearning/blob/main/Debugging_for_task1.ipynb\" target=\"_parent\"><img src=\"https://colab.research.google.com/assets/colab-badge.svg\" alt=\"Open In Colab\"/></a>"
      ]
    },
    {
      "cell_type": "code",
      "execution_count": 1,
      "metadata": {
        "colab": {
          "base_uri": "https://localhost:8080/"
        },
        "id": "8To09EUr5fiV",
        "outputId": "6384fbe0-ae9c-4abd-927d-ed3c7d1a9f34"
      },
      "outputs": [
        {
          "output_type": "stream",
          "name": "stdout",
          "text": [
            "PyTorch is already at the correct version (2.5.1).\n"
          ]
        }
      ],
      "source": [
        "import torch\n",
        "\n",
        "if torch.__version__ != '2.5.1+cu124':\n",
        "    !pip install torch==2.5.1+cu124 torchvision==0.20.1+cu124 torchaudio==2.5.1 --index-url https://download.pytorch.org/whl/cu124 -U --quiet\n",
        "    print(\"PyTorch version updated to 2.5.1.\")\n",
        "else:\n",
        "    print(\"PyTorch is already at the correct version (2.5.1).\")"
      ]
    },
    {
      "cell_type": "code",
      "source": [
        "!pip install d2l==1.0.3 --quiet\n",
        "!pip install scipy --quiet\n",
        "!pip install torchmetrics --quiet"
      ],
      "metadata": {
        "id": "jQGccqwf5k7O"
      },
      "execution_count": 2,
      "outputs": []
    },
    {
      "cell_type": "code",
      "source": [
        "import torch\n",
        "import torch.nn as nn\n",
        "import torch.nn.functional as F\n",
        "from torch.utils.data.dataloader import DataLoader\n",
        "from torch.utils.data import RandomSampler, random_split\n",
        "\n",
        "from tqdm.auto import tqdm, trange\n",
        "from matplotlib import pyplot as plt\n",
        "\n",
        "DEVICE = torch.device(\"cpu\")"
      ],
      "metadata": {
        "id": "sdRdoyUo5mPa"
      },
      "execution_count": 3,
      "outputs": []
    },
    {
      "cell_type": "code",
      "source": [
        "import random\n",
        "import os\n",
        "import matplotlib.pyplot as plt\n",
        "import csv\n",
        "import numpy as np\n"
      ],
      "metadata": {
        "id": "F3iA_bVH5n8Z"
      },
      "execution_count": 4,
      "outputs": []
    },
    {
      "cell_type": "code",
      "source": [
        "import os\n",
        "! git clone https://git.wur.nl/bioinformatics/grs34806-deep-learning-project-data.git\n",
        "os.chdir(\"grs34806-deep-learning-project-data\")"
      ],
      "metadata": {
        "colab": {
          "base_uri": "https://localhost:8080/"
        },
        "id": "aEQdkxN365HX",
        "outputId": "6f8f8203-267e-4b4c-8e48-bc2eb8df6f10"
      },
      "execution_count": 5,
      "outputs": [
        {
          "output_type": "stream",
          "name": "stdout",
          "text": [
            "fatal: destination path 'grs34806-deep-learning-project-data' already exists and is not an empty directory.\n"
          ]
        }
      ]
    },
    {
      "cell_type": "markdown",
      "source": [
        "Writing a function to read the simulated data and produce lists containing the sequences and a list of 0s and 1s."
      ],
      "metadata": {
        "id": "pmwhqC2FATO-"
      }
    },
    {
      "cell_type": "code",
      "source": [
        "def read(seqfile, posfile):\n",
        "  \"\"\"\n",
        "  Extracting the sequences from the seqfile and creating a list called datalist.\n",
        "  Making a list called labellist containing 0s and 1s, where 1 denotes the\n",
        "  sequence identifiers in the posfile.\n",
        "  \"\"\"\n",
        "  # Removing the sequence identifiers\n",
        "  with open(seqfile, 'r') as f:\n",
        "    seq_lines = [seq_lines.strip() for seq_lines in f.readlines() if seq_lines.strip()]\n",
        "    #print(seq_lines)\n",
        "  seq_ids = []\n",
        "  datalist = []\n",
        "  current_seq = \"\"\n",
        "  for line in seq_lines:\n",
        "    if line.startswith(\"seq\"):\n",
        "      parts = line.split()\n",
        "      #print(parts)\n",
        "      seq_ids.append(parts[0])\n",
        "      datalist.append(parts[1])\n",
        "\n",
        "  with open(posfile, 'r') as f:\n",
        "    annotated_ids = [line.strip() for line in f.readlines() if line.strip()]\n",
        "    #print(annotated_ids)\n",
        "  labellist = [1 if seq_id in annotated_ids else 0 for seq_id in seq_ids]\n",
        "  #print(labellist)\n",
        "  assert len(datalist) == len(labellist) == len(seq_ids), \"Lengths of lists don't match\"\n",
        "\n",
        "  print(\"Length of the datalist: \", len(datalist))\n",
        "  print(\"Length of labellist: \", len(labellist))\n",
        "  print(\"The number of positives in labellist: \", sum(labellist))\n",
        "  for i in range(min(5, len(datalist))):\n",
        "        print(f\"ID: {seq_ids[i]}, Has annotation: {labellist[i]}, Sequence length: {len(datalist[i])}\")\n",
        "\n",
        "  return datalist, labellist\n"
      ],
      "metadata": {
        "id": "TuiXJEqM7VyX"
      },
      "execution_count": 6,
      "outputs": []
    },
    {
      "cell_type": "code",
      "source": [
        "datalist, labellist = read(seqfile = \"/content/grs34806-deep-learning-project-data/len100_200_n1000.seq\",\n",
        "posfile = \"/content/grs34806-deep-learning-project-data/len100_200_n1000.pos\")"
      ],
      "metadata": {
        "colab": {
          "base_uri": "https://localhost:8080/"
        },
        "id": "2Y4_oi5xAH0N",
        "outputId": "ae81aab2-0919-4555-f043-1eaa25b0dcf1"
      },
      "execution_count": 7,
      "outputs": [
        {
          "output_type": "stream",
          "name": "stdout",
          "text": [
            "Length of the datalist:  1000\n",
            "Length of labellist:  1000\n",
            "The number of positives in labellist:  507\n",
            "ID: seq1, Has annotation: 1, Sequence length: 113\n",
            "ID: seq2, Has annotation: 0, Sequence length: 166\n",
            "ID: seq3, Has annotation: 0, Sequence length: 197\n",
            "ID: seq4, Has annotation: 1, Sequence length: 150\n",
            "ID: seq5, Has annotation: 0, Sequence length: 134\n"
          ]
        }
      ]
    },
    {
      "cell_type": "markdown",
      "source": [
        "Splitting the lists into training and testing datasets using the train_test_split method from sklearn."
      ],
      "metadata": {
        "id": "-6wiBFSQBwXa"
      }
    },
    {
      "cell_type": "code",
      "source": [
        "import numpy as np\n",
        "from sklearn.model_selection import train_test_split\n",
        "def generate_train_test (datalist, labellist):\n",
        "  traindatalist, testdatalist, trainlabellist, testlabellist = train_test_split(\n",
        "      datalist, labellist, test_size=0.2, random_state=42\n",
        "  )\n",
        "  return traindatalist, testdatalist, trainlabellist, testlabellist"
      ],
      "metadata": {
        "id": "2Nszbu4VB3La"
      },
      "execution_count": 8,
      "outputs": []
    },
    {
      "cell_type": "code",
      "source": [
        "traindatalist, testdatalist, trainlabellist, testlabellist = generate_train_test(\n",
        "    datalist, labellist\n",
        ")\n",
        "# Printing the length of the training and testing data\n",
        "print(\"Training data size:\", len(traindatalist))\n",
        "print(\"Training labels size:\", len(trainlabellist))\n",
        "print(\"Test data size:\", len(testdatalist))\n",
        "print(\"Test labels size:\", len(testlabellist))"
      ],
      "metadata": {
        "colab": {
          "base_uri": "https://localhost:8080/"
        },
        "id": "4SUP0QnkC9Gk",
        "outputId": "e4195b20-fbed-4547-e8a1-3f428ad09186"
      },
      "execution_count": 9,
      "outputs": [
        {
          "output_type": "stream",
          "name": "stdout",
          "text": [
            "Training data size: 800\n",
            "Training labels size: 800\n",
            "Test data size: 200\n",
            "Test labels size: 200\n"
          ]
        }
      ]
    },
    {
      "cell_type": "markdown",
      "source": [
        "Defined the provided functions."
      ],
      "metadata": {
        "id": "frMYmACTD5oN"
      }
    },
    {
      "cell_type": "code",
      "source": [
        "def tokenize(dat, map2num, non_aa_num=20):\n",
        "  \"\"\"\n",
        "  This function takes in the sequences of AA. It uses dictionary mapping, to map\n",
        "  AA to integers. The non_aa_num make up the unknown AA, and its default value is\n",
        "  20.\n",
        "  \"\"\"\n",
        "  seq = []\n",
        "  for count, i in enumerate(dat):\n",
        "      seq.append([map2num.get(j, non_aa_num) for j in list(i)])\n",
        "  return seq"
      ],
      "metadata": {
        "id": "xd4QzzKcD7za"
      },
      "execution_count": 10,
      "outputs": []
    },
    {
      "cell_type": "code",
      "source": [
        "def build_seq_array(lines, num_steps, non_aa_num=20):\n",
        "  \"\"\"\n",
        "  This function applies the truncate_pad function to all the sequences.\n",
        "  It then converts the sequences into tensors.\n",
        "  \"\"\"\n",
        "  array = torch.tensor([\n",
        "      truncate_pad(l, num_steps, non_aa_num) for l in lines])\n",
        "  return array"
      ],
      "metadata": {
        "id": "X02QA1bBECPn"
      },
      "execution_count": 11,
      "outputs": []
    },
    {
      "cell_type": "code",
      "source": [
        "def truncate_pad(line, num_steps, padding_token):\n",
        "  \"\"\"\n",
        "  The line in the parameters refers to the tokenized sequence.\n",
        "  num_steps is the maxmimum sequence length. The padding_token is the integer\n",
        "  for padding.\n",
        "  The function pads shorter sequences with padding_token.\n",
        "  \"\"\"\n",
        "  if len(line) > num_steps:\n",
        "    return line[:num_steps] #Truncate\n",
        "  return line + [padding_token] * (num_steps - len(line))"
      ],
      "metadata": {
        "id": "5-HWJ2LHEF67"
      },
      "execution_count": 12,
      "outputs": []
    },
    {
      "cell_type": "code",
      "source": [
        "from d2l import torch as d2l"
      ],
      "metadata": {
        "id": "LWA5mwdKEXTM"
      },
      "execution_count": 13,
      "outputs": []
    },
    {
      "cell_type": "markdown",
      "source": [
        "The function also includes code for converting the tokenized seq into a 1-hot encoded representation so it can be fed as input to the CNN."
      ],
      "metadata": {
        "id": "xzVm8qtlEd9L"
      }
    },
    {
      "cell_type": "code",
      "source": [
        "def load_data(batch_size, num_steps, dataset, trainlabels = None):\n",
        "  mapaa2num = {aa: i for (i, aa)\n",
        "                      in enumerate(list(\"ACDEFGHIKLMNPQRSTVWY\"))}\n",
        "  # Creating a dictionary which maps each AA to a unique integer\n",
        "  seq, lab = dataset, trainlabels # lab is the labels which are associated with sequences\n",
        "\n",
        "  seq = tokenize(seq, mapaa2num)\n",
        "  seq_array = build_seq_array(seq, num_steps) # Shape = batch_size, num_steps\n",
        "\n",
        "  # To convert the sequences to one-hot encoding\n",
        "  # one_hot method takes a tensor and returns a tensor of shape of num_classes\n",
        "  vocab_size = len(mapaa2num)\n",
        "  seq_onehotencoding = F.one_hot(seq_array, num_classes=vocab_size).float()\n",
        "  seq_onehotencoding = seq_onehotencoding.permute(0,2,1)\n",
        "  # Shape = batch_size, vocab_size, num_steps\n",
        "\n",
        "  data_arrays = (seq_onehotencoding, torch.tensor(lab))\n",
        "  data_iter = d2l.load_array(data_arrays, batch_size)\n",
        "  print(\"Shape of seq_array: \", seq_array.shape)\n",
        "  print(\"Shape of data_arrays, which now considers \\none-hot encoded sequence: \",\n",
        "        seq_onehotencoding.shape)\n",
        "  return data_iter"
      ],
      "metadata": {
        "id": "BG2KQGODEYOA"
      },
      "execution_count": 14,
      "outputs": []
    },
    {
      "cell_type": "code",
      "source": [
        "train_iter = load_data(batch_size = 25, num_steps=100, dataset=traindatalist, trainlabels=trainlabellist)\n",
        "test_iter = load_data(batch_size= 25, num_steps = 100, dataset = testdatalist, trainlabels = testlabellist)"
      ],
      "metadata": {
        "colab": {
          "base_uri": "https://localhost:8080/"
        },
        "id": "RJAkycyAFCaI",
        "outputId": "6980ac8a-895d-4612-9cae-770421640ec8"
      },
      "execution_count": 15,
      "outputs": [
        {
          "output_type": "stream",
          "name": "stdout",
          "text": [
            "Shape of seq_array:  torch.Size([800, 100])\n",
            "Shape of data_arrays, which now considers \n",
            "one-hot encoded sequence:  torch.Size([800, 20, 100])\n",
            "Shape of seq_array:  torch.Size([200, 100])\n",
            "Shape of data_arrays, which now considers \n",
            "one-hot encoded sequence:  torch.Size([200, 20, 100])\n"
          ]
        }
      ]
    },
    {
      "cell_type": "markdown",
      "source": [
        "Building the 1D-CNN model."
      ],
      "metadata": {
        "id": "LeZNd6ClFviS"
      }
    },
    {
      "cell_type": "code",
      "source": [
        "class ProteinCNN1D(nn.Module):\n",
        "  def __init__(self, vocab_size:int, context_size:int, conv_channels:int=128,\n",
        "                use_bias:bool=False, dropout_rate = 0.5, lr = 1, weight_decay=1e-4,\n",
        "               momentum = 0):\n",
        "      super().__init__()\n",
        "      assert context_size % 2 == 0, f'Invalid block_size, {context_size} is not an even number'\n",
        "      self.vocab_size = vocab_size\n",
        "      self.context_size = context_size\n",
        "      self.momentum = momentum\n",
        "      self.cnn = nn.Sequential(\n",
        "          nn.Conv1d(in_channels=self.vocab_size,\n",
        "                    out_channels=conv_channels,\n",
        "                    kernel_size=3,\n",
        "                    padding='same',\n",
        "                    bias=use_bias),\n",
        "          nn.ReLU(),\n",
        "          nn.Dropout(dropout_rate),\n",
        "          nn.MaxPool1d(kernel_size = 2, stride = 2),\n",
        "\n",
        "          nn.Conv1d(in_channels=conv_channels,\n",
        "                    out_channels=conv_channels,\n",
        "                    kernel_size = 3,\n",
        "                    padding = 'same',\n",
        "                    bias = use_bias),\n",
        "          nn.ReLU(),\n",
        "          nn.Dropout(dropout_rate),\n",
        "          nn.MaxPool1d(kernel_size = 2, stride = 2),\n",
        "\n",
        "          nn.Flatten(1, -1),\n",
        "          nn.Linear(in_features = int(conv_channels*self.context_size/4),\n",
        "                    out_features = 1,\n",
        "                    bias = use_bias)\n",
        "\n",
        "      )\n",
        "  def forward(self, X:torch.tensor, targets: torch.tensor=None) -> tuple[torch.tensor, torch.tensor]:\n",
        "    logits = self.cnn(X).squeeze(1)\n",
        "    loss = None if targets is None else F.binary_cross_entropy_with_logits(\n",
        "        logits, targets.float())\n",
        "    return logits, loss\n",
        "\n"
      ],
      "metadata": {
        "id": "2udPUCghFy27"
      },
      "execution_count": 50,
      "outputs": []
    },
    {
      "cell_type": "code",
      "source": [
        "batch_size = 32\n",
        "context_size = 100\n",
        "train_frac = 0.8\n",
        "learning_rate = 1e-3\n",
        "dropout_rate = 0.5\n",
        "num_epochs = 20\n",
        "\n",
        "train_iter = load_data(batch_size=batch_size,\n",
        "                       num_steps = context_size,\n",
        "                       dataset=traindatalist,\n",
        "                       trainlabels=trainlabellist)\n",
        "\n",
        "test_iter = load_data(batch_size=batch_size,\n",
        "                      num_steps = context_size,\n",
        "                      dataset = testdatalist,\n",
        "                      trainlabels = testlabellist)\n",
        "\n",
        "# Initializing the model\n",
        "model = ProteinCNN1D(\n",
        "    vocab_size=20,\n",
        "    context_size=context_size,\n",
        "    conv_channels=128,\n",
        "    use_bias = False\n",
        ")\n",
        "model.to(DEVICE)\n",
        "\n",
        "# Using AdamW as the optimizer\n",
        "optimizer = torch.optim.AdamW(params=model.parameters(), lr=learning_rate)\n",
        "\n",
        "train_losses = []\n",
        "test_losses = []\n",
        "test_accuracies = []\n",
        "#Training loop\n",
        "for epoch in range(num_epochs):\n",
        "  model.train()\n",
        "  epoch_loss = 0\n",
        "  correct = 0\n",
        "  total = 0\n",
        "  for X, y in train_iter:\n",
        "      X,y = X.to(DEVICE), y.to(DEVICE)\n",
        "\n",
        "      #Forward pass\n",
        "      logits, loss = model(X,y)\n",
        "      #Backward pass\n",
        "      optimizer.zero_grad()\n",
        "      loss.backward()\n",
        "      optimizer.step()\n",
        "\n",
        "      epoch_loss += loss.item()\n",
        "      preds = (torch.sigmoid(logits)>0.5).float()\n",
        "      correct += (preds == y).sum().item()\n",
        "      total+= y.size(0)\n",
        "\n",
        "  #Storing the training metrics\n",
        "  train_accuracy = correct/total\n",
        "  train_losses.append(epoch_loss/len(train_iter))\n",
        "\n",
        "  #Evaluation on the test set\n",
        "  model.eval()\n",
        "  test_loss = 0\n",
        "  correct = 0\n",
        "  total = 0\n",
        "\n",
        "  with torch.no_grad():\n",
        "    for X, y in test_iter:\n",
        "        X, y = X.to(DEVICE), y.to(DEVICE)\n",
        "        logits, loss = model(X, y)\n",
        "        test_loss += loss.item()\n",
        "        preds = (torch.sigmoid(logits) > 0.5).float()\n",
        "        correct += (preds == y).sum().item()\n",
        "        total += y.size(0)\n",
        "  test_losses.append(test_loss / len(test_iter))\n",
        "  test_accuracies.append(correct/total)\n",
        "\n",
        "  print(f'Epoch {epoch+1}: '\n",
        "          f'Train Loss: {train_losses[-1]:.4f}, '\n",
        "          f'Test Loss: {test_losses[-1]:.4f}, '\n",
        "          f'Test Accuracy: {test_accuracies[-1]:.4f}')\n",
        "\n",
        "# Plotting results\n",
        "plt.figure(figsize=(12, 5))\n",
        "plt.subplot(1, 2, 1)\n",
        "plt.plot(train_losses, label='Train Loss')\n",
        "plt.plot(test_losses, label='Test Loss')\n",
        "plt.xlabel('Epoch')\n",
        "plt.ylabel('Loss')\n",
        "plt.legend()"
      ],
      "metadata": {
        "colab": {
          "base_uri": "https://localhost:8080/",
          "height": 934
        },
        "id": "ekxnnAUMONqJ",
        "outputId": "4b4a2ba5-d630-4c43-ba15-aa85b26212db"
      },
      "execution_count": 51,
      "outputs": [
        {
          "output_type": "stream",
          "name": "stdout",
          "text": [
            "Shape of seq_array:  torch.Size([800, 100])\n",
            "Shape of data_arrays, which now considers \n",
            "one-hot encoded sequence:  torch.Size([800, 20, 100])\n",
            "Shape of seq_array:  torch.Size([200, 100])\n",
            "Shape of data_arrays, which now considers \n",
            "one-hot encoded sequence:  torch.Size([200, 20, 100])\n",
            "Epoch 1: Train Loss: 0.6965, Test Loss: 0.7039, Test Accuracy: 0.4700\n",
            "Epoch 2: Train Loss: 0.6890, Test Loss: 0.6901, Test Accuracy: 0.6550\n",
            "Epoch 3: Train Loss: 0.6723, Test Loss: 0.6780, Test Accuracy: 0.5300\n",
            "Epoch 4: Train Loss: 0.6362, Test Loss: 0.6375, Test Accuracy: 0.6950\n",
            "Epoch 5: Train Loss: 0.5690, Test Loss: 0.6214, Test Accuracy: 0.6400\n",
            "Epoch 6: Train Loss: 0.5209, Test Loss: 0.5683, Test Accuracy: 0.6350\n",
            "Epoch 7: Train Loss: 0.4549, Test Loss: 0.4987, Test Accuracy: 0.7550\n",
            "Epoch 8: Train Loss: 0.3987, Test Loss: 0.4729, Test Accuracy: 0.7600\n",
            "Epoch 9: Train Loss: 0.3636, Test Loss: 0.4753, Test Accuracy: 0.8400\n",
            "Epoch 10: Train Loss: 0.3328, Test Loss: 0.4147, Test Accuracy: 0.8450\n",
            "Epoch 11: Train Loss: 0.3089, Test Loss: 0.4611, Test Accuracy: 0.7500\n",
            "Epoch 12: Train Loss: 0.2828, Test Loss: 0.3866, Test Accuracy: 0.8400\n",
            "Epoch 13: Train Loss: 0.2475, Test Loss: 0.4218, Test Accuracy: 0.8600\n",
            "Epoch 14: Train Loss: 0.2392, Test Loss: 0.3792, Test Accuracy: 0.8250\n",
            "Epoch 15: Train Loss: 0.1986, Test Loss: 0.3824, Test Accuracy: 0.8350\n",
            "Epoch 16: Train Loss: 0.1826, Test Loss: 0.3972, Test Accuracy: 0.8450\n",
            "Epoch 17: Train Loss: 0.1710, Test Loss: 0.4429, Test Accuracy: 0.8300\n",
            "Epoch 18: Train Loss: 0.1553, Test Loss: 0.4171, Test Accuracy: 0.8050\n",
            "Epoch 19: Train Loss: 0.1562, Test Loss: 0.3815, Test Accuracy: 0.7950\n",
            "Epoch 20: Train Loss: 0.1244, Test Loss: 0.4263, Test Accuracy: 0.8300\n"
          ]
        },
        {
          "output_type": "execute_result",
          "data": {
            "text/plain": [
              "<matplotlib.legend.Legend at 0x7a715fa06c90>"
            ]
          },
          "metadata": {},
          "execution_count": 51
        },
        {
          "output_type": "display_data",
          "data": {
            "text/plain": [
              "<Figure size 1200x500 with 1 Axes>"
            ],
            "image/png": "[encoded data removed]"
          },
          "metadata": {}
        }
      ]
    },
    {
      "cell_type": "markdown",
      "source": [
        "Testing with a weight decay value of 1e-4, along with a learning rate of 1e-3 and a dropout rate of 0.5"
      ],
      "metadata": {
        "id": "FMGUspdmXhP7"
      }
    },
    {
      "cell_type": "code",
      "source": [
        "batch_size = 32\n",
        "context_size = 100\n",
        "train_frac = 0.8\n",
        "learning_rate = 1e-3\n",
        "dropout_rate = 0.5\n",
        "num_epochs = 20\n",
        "weight_decay = 1e-4\n",
        "\n",
        "train_iter = load_data(batch_size=batch_size,\n",
        "                       num_steps = context_size,\n",
        "                       dataset=traindatalist,\n",
        "                       trainlabels=trainlabellist)\n",
        "\n",
        "test_iter = load_data(batch_size=batch_size,\n",
        "                      num_steps = context_size,\n",
        "                      dataset = testdatalist,\n",
        "                      trainlabels = testlabellist)\n",
        "\n",
        "# Initializing the model\n",
        "model = ProteinCNN1D(\n",
        "    vocab_size=20,\n",
        "    context_size=context_size,\n",
        "    conv_channels=128,\n",
        "    use_bias = False\n",
        ")\n",
        "model.to(DEVICE)\n",
        "\n",
        "# Using AdamW as the optimizer\n",
        "optimizer = torch.optim.AdamW(params=model.parameters(), lr=learning_rate,\n",
        "                              weight_decay = weight_decay)\n",
        "\n",
        "train_losses = []\n",
        "test_losses = []\n",
        "test_accuracies = []\n",
        "#Training loop\n",
        "for epoch in range(num_epochs):\n",
        "  model.train()\n",
        "  epoch_loss = 0\n",
        "  correct = 0\n",
        "  total = 0\n",
        "  for X, y in train_iter:\n",
        "      X,y = X.to(DEVICE), y.to(DEVICE)\n",
        "\n",
        "      #Forward pass\n",
        "      logits, loss = model(X,y)\n",
        "      #Backward pass\n",
        "      optimizer.zero_grad()\n",
        "      loss.backward()\n",
        "      optimizer.step()\n",
        "\n",
        "      epoch_loss += loss.item()\n",
        "      preds = (torch.sigmoid(logits)>0.5).float()\n",
        "      correct += (preds == y).sum().item()\n",
        "      total+= y.size(0)\n",
        "\n",
        "  #Storing the training metrics\n",
        "  train_accuracy = correct/total\n",
        "  train_losses.append(epoch_loss/len(train_iter))\n",
        "\n",
        "  #Evaluation on the test set\n",
        "  model.eval()\n",
        "  test_loss = 0\n",
        "  correct = 0\n",
        "  total = 0\n",
        "\n",
        "  with torch.no_grad():\n",
        "    for X, y in test_iter:\n",
        "        X, y = X.to(DEVICE), y.to(DEVICE)\n",
        "        logits, loss = model(X, y)\n",
        "        test_loss += loss.item()\n",
        "        preds = (torch.sigmoid(logits) > 0.5).float()\n",
        "        correct += (preds == y).sum().item()\n",
        "        total += y.size(0)\n",
        "  test_losses.append(test_loss / len(test_iter))\n",
        "  test_accuracies.append(correct/total)\n",
        "\n",
        "  print(f'Epoch {epoch+1}: '\n",
        "          f'Train Loss: {train_losses[-1]:.4f}, '\n",
        "          f'Test Loss: {test_losses[-1]:.4f}, '\n",
        "          f'Test Accuracy: {test_accuracies[-1]:.4f}')\n",
        "\n",
        "# Plotting results\n",
        "plt.figure(figsize=(12, 5))\n",
        "plt.subplot(1, 2, 1)\n",
        "plt.plot(train_losses, label='Train Loss')\n",
        "plt.plot(test_losses, label='Test Loss')\n",
        "plt.xlabel('Epoch')\n",
        "plt.ylabel('Loss')\n",
        "plt.legend()"
      ],
      "metadata": {
        "colab": {
          "base_uri": "https://localhost:8080/",
          "height": 934
        },
        "id": "tN3qEDjBWNbn",
        "outputId": "ffb6232a-14b1-4c0a-f9d2-c3cf6fbe1a1c"
      },
      "execution_count": 52,
      "outputs": [
        {
          "output_type": "stream",
          "name": "stdout",
          "text": [
            "Shape of seq_array:  torch.Size([800, 100])\n",
            "Shape of data_arrays, which now considers \n",
            "one-hot encoded sequence:  torch.Size([800, 20, 100])\n",
            "Shape of seq_array:  torch.Size([200, 100])\n",
            "Shape of data_arrays, which now considers \n",
            "one-hot encoded sequence:  torch.Size([200, 20, 100])\n",
            "Epoch 1: Train Loss: 0.7052, Test Loss: 0.6898, Test Accuracy: 0.5300\n",
            "Epoch 2: Train Loss: 0.6902, Test Loss: 0.6930, Test Accuracy: 0.4700\n",
            "Epoch 3: Train Loss: 0.6845, Test Loss: 0.6869, Test Accuracy: 0.5300\n",
            "Epoch 4: Train Loss: 0.6718, Test Loss: 0.6788, Test Accuracy: 0.5850\n",
            "Epoch 5: Train Loss: 0.6371, Test Loss: 0.6514, Test Accuracy: 0.6550\n",
            "Epoch 6: Train Loss: 0.5732, Test Loss: 0.5949, Test Accuracy: 0.6950\n",
            "Epoch 7: Train Loss: 0.4874, Test Loss: 0.5501, Test Accuracy: 0.7300\n",
            "Epoch 8: Train Loss: 0.4580, Test Loss: 0.5261, Test Accuracy: 0.7950\n",
            "Epoch 9: Train Loss: 0.3799, Test Loss: 0.4467, Test Accuracy: 0.8250\n",
            "Epoch 10: Train Loss: 0.3530, Test Loss: 0.4319, Test Accuracy: 0.8400\n",
            "Epoch 11: Train Loss: 0.3238, Test Loss: 0.4127, Test Accuracy: 0.8250\n",
            "Epoch 12: Train Loss: 0.3017, Test Loss: 0.3905, Test Accuracy: 0.8450\n",
            "Epoch 13: Train Loss: 0.2624, Test Loss: 0.3775, Test Accuracy: 0.8400\n",
            "Epoch 14: Train Loss: 0.2545, Test Loss: 0.3974, Test Accuracy: 0.8500\n",
            "Epoch 15: Train Loss: 0.2179, Test Loss: 0.3951, Test Accuracy: 0.8200\n",
            "Epoch 16: Train Loss: 0.2020, Test Loss: 0.3804, Test Accuracy: 0.8250\n",
            "Epoch 17: Train Loss: 0.1926, Test Loss: 0.3953, Test Accuracy: 0.8500\n",
            "Epoch 18: Train Loss: 0.1689, Test Loss: 0.3946, Test Accuracy: 0.8150\n",
            "Epoch 19: Train Loss: 0.1463, Test Loss: 0.4529, Test Accuracy: 0.8350\n",
            "Epoch 20: Train Loss: 0.1309, Test Loss: 0.4123, Test Accuracy: 0.8150\n"
          ]
        },
        {
          "output_type": "execute_result",
          "data": {
            "text/plain": [
              "<matplotlib.legend.Legend at 0x7a715eb0ed10>"
            ]
          },
          "metadata": {},
          "execution_count": 52
        },
        {
          "output_type": "display_data",
          "data": {
            "text/plain": [
              "<Figure size 1200x500 with 1 Axes>"
            ],
            "image/png": "[encoded data removed]"
          },
          "metadata": {}
        }
      ]
    },
    {
      "cell_type": "markdown",
      "source": [
        "Testing with a dropout rate of 0.2, a lr of 0.001 and a weight_decay value of 0.001"
      ],
      "metadata": {
        "id": "iK6icnVTNQUN"
      }
    },
    {
      "cell_type": "code",
      "source": [
        "batch_size = 32\n",
        "context_size = 100\n",
        "train_frac = 0.8\n",
        "learning_rate = 0.001\n",
        "dropout_rate = 0.2\n",
        "num_epochs = 20\n",
        "weight_decay = 0.001\n",
        "\n",
        "train_iter = load_data(batch_size=batch_size,\n",
        "                       num_steps = context_size,\n",
        "                       dataset=traindatalist,\n",
        "                       trainlabels=trainlabellist)\n",
        "\n",
        "test_iter = load_data(batch_size=batch_size,\n",
        "                      num_steps = context_size,\n",
        "                      dataset = testdatalist,\n",
        "                      trainlabels = testlabellist)\n",
        "\n",
        "# Initializing the model\n",
        "model = ProteinCNN1D(\n",
        "    vocab_size=20,\n",
        "    context_size=context_size,\n",
        "    conv_channels=128,\n",
        "    use_bias = False\n",
        ")\n",
        "model.to(DEVICE)\n",
        "\n",
        "# Using AdamW as the optimizer\n",
        "optimizer = torch.optim.AdamW(params=model.parameters(), lr=learning_rate,\n",
        "                              weight_decay = weight_decay)\n",
        "\n",
        "train_losses = []\n",
        "test_losses = []\n",
        "test_accuracies = []\n",
        "#Training loop\n",
        "for epoch in range(num_epochs):\n",
        "  model.train()\n",
        "  epoch_loss = 0\n",
        "  correct = 0\n",
        "  total = 0\n",
        "  for X, y in train_iter:\n",
        "      X,y = X.to(DEVICE), y.to(DEVICE)\n",
        "\n",
        "      #Forward pass\n",
        "      logits, loss = model(X,y)\n",
        "      #Backward pass\n",
        "      optimizer.zero_grad()\n",
        "      loss.backward()\n",
        "      optimizer.step()\n",
        "\n",
        "      epoch_loss += loss.item()\n",
        "      preds = (torch.sigmoid(logits)>0.5).float()\n",
        "      correct += (preds == y).sum().item()\n",
        "      total+= y.size(0)\n",
        "\n",
        "  #Storing the training metrics\n",
        "  train_accuracy = correct/total\n",
        "  train_losses.append(epoch_loss/len(train_iter))\n",
        "\n",
        "  #Evaluation on the test set\n",
        "  model.eval()\n",
        "  test_loss = 0\n",
        "  correct = 0\n",
        "  total = 0\n",
        "\n",
        "  with torch.no_grad():\n",
        "    for X, y in test_iter:\n",
        "        X, y = X.to(DEVICE), y.to(DEVICE)\n",
        "        logits, loss = model(X, y)\n",
        "        test_loss += loss.item()\n",
        "        preds = (torch.sigmoid(logits) > 0.5).float()\n",
        "        correct += (preds == y).sum().item()\n",
        "        total += y.size(0)\n",
        "  test_losses.append(test_loss / len(test_iter))\n",
        "  test_accuracies.append(correct/total)\n",
        "\n",
        "  print(f'Epoch {epoch+1}: '\n",
        "          f'Train Loss: {train_losses[-1]:.4f}, '\n",
        "          f'Test Loss: {test_losses[-1]:.4f}, '\n",
        "          f'Test Accuracy: {test_accuracies[-1]:.4f}')\n",
        "\n",
        "# Plotting results\n",
        "plt.figure(figsize=(12, 5))\n",
        "plt.subplot(1, 2, 1)\n",
        "plt.plot(train_losses, label='Train Loss')\n",
        "plt.plot(test_losses, label='Test Loss')\n",
        "plt.xlabel('Epoch')\n",
        "plt.ylabel('Loss')\n",
        "plt.legend()"
      ],
      "metadata": {
        "colab": {
          "base_uri": "https://localhost:8080/",
          "height": 934
        },
        "id": "eP9oc5T7MVsr",
        "outputId": "ebd86498-9891-46d9-dec1-f6c6b7bae039"
      },
      "execution_count": 53,
      "outputs": [
        {
          "output_type": "stream",
          "name": "stdout",
          "text": [
            "Shape of seq_array:  torch.Size([800, 100])\n",
            "Shape of data_arrays, which now considers \n",
            "one-hot encoded sequence:  torch.Size([800, 20, 100])\n",
            "Shape of seq_array:  torch.Size([200, 100])\n",
            "Shape of data_arrays, which now considers \n",
            "one-hot encoded sequence:  torch.Size([200, 20, 100])\n",
            "Epoch 1: Train Loss: 0.6946, Test Loss: 0.6948, Test Accuracy: 0.4700\n",
            "Epoch 2: Train Loss: 0.6847, Test Loss: 0.6922, Test Accuracy: 0.4700\n",
            "Epoch 3: Train Loss: 0.6730, Test Loss: 0.6791, Test Accuracy: 0.5400\n",
            "Epoch 4: Train Loss: 0.6564, Test Loss: 0.6698, Test Accuracy: 0.6100\n",
            "Epoch 5: Train Loss: 0.5989, Test Loss: 0.6330, Test Accuracy: 0.6850\n",
            "Epoch 6: Train Loss: 0.5549, Test Loss: 0.5984, Test Accuracy: 0.7250\n",
            "Epoch 7: Train Loss: 0.4904, Test Loss: 0.5448, Test Accuracy: 0.7650\n",
            "Epoch 8: Train Loss: 0.4648, Test Loss: 0.5255, Test Accuracy: 0.8000\n",
            "Epoch 9: Train Loss: 0.3951, Test Loss: 0.4786, Test Accuracy: 0.8400\n",
            "Epoch 10: Train Loss: 0.3600, Test Loss: 0.4507, Test Accuracy: 0.8150\n",
            "Epoch 11: Train Loss: 0.3356, Test Loss: 0.4310, Test Accuracy: 0.8000\n",
            "Epoch 12: Train Loss: 0.2875, Test Loss: 0.4643, Test Accuracy: 0.8000\n",
            "Epoch 13: Train Loss: 0.2554, Test Loss: 0.4225, Test Accuracy: 0.8150\n",
            "Epoch 14: Train Loss: 0.2431, Test Loss: 0.4161, Test Accuracy: 0.7600\n",
            "Epoch 15: Train Loss: 0.2127, Test Loss: 0.4241, Test Accuracy: 0.7900\n",
            "Epoch 16: Train Loss: 0.2071, Test Loss: 0.4365, Test Accuracy: 0.8200\n",
            "Epoch 17: Train Loss: 0.1765, Test Loss: 0.4243, Test Accuracy: 0.8200\n",
            "Epoch 18: Train Loss: 0.1550, Test Loss: 0.4254, Test Accuracy: 0.8000\n",
            "Epoch 19: Train Loss: 0.1434, Test Loss: 0.4275, Test Accuracy: 0.8350\n",
            "Epoch 20: Train Loss: 0.1404, Test Loss: 0.4544, Test Accuracy: 0.8350\n"
          ]
        },
        {
          "output_type": "execute_result",
          "data": {
            "text/plain": [
              "<matplotlib.legend.Legend at 0x7a715ea0c450>"
            ]
          },
          "metadata": {},
          "execution_count": 53
        },
        {
          "output_type": "display_data",
          "data": {
            "text/plain": [
              "<Figure size 1200x500 with 1 Axes>"
            ],
            "image/png": "[encoded data removed]"
          },
          "metadata": {}
        }
      ]
    },
    {
      "cell_type": "markdown",
      "source": [
        "Implementing with SGD optimizer, to further try the performance of the model using momentum."
      ],
      "metadata": {
        "id": "uI4lAkhkNpYp"
      }
    },
    {
      "cell_type": "code",
      "source": [
        "batch_size = 32\n",
        "context_size = 100\n",
        "train_frac = 0.8\n",
        "learning_rate = 1e-3\n",
        "dropout_rate = 0.5\n",
        "num_epochs = 20\n",
        "weight_decay = 1e-4\n",
        "momentum = 0.5\n",
        "\n",
        "train_iter = load_data(batch_size=batch_size,\n",
        "                       num_steps = context_size,\n",
        "                       dataset=traindatalist,\n",
        "                       trainlabels=trainlabellist)\n",
        "\n",
        "test_iter = load_data(batch_size=batch_size,\n",
        "                      num_steps = context_size,\n",
        "                      dataset = testdatalist,\n",
        "                      trainlabels = testlabellist)\n",
        "\n",
        "# Initializing the model\n",
        "model = ProteinCNN1D(\n",
        "    vocab_size=20,\n",
        "    context_size=context_size,\n",
        "    conv_channels=128,\n",
        "    use_bias = False,\n",
        "    momentum = 0.5\n",
        ")\n",
        "model.to(DEVICE)\n",
        "\n",
        "# Using AdamW as the optimizer\n",
        "optimizer = torch.optim.SGD(params=model.parameters(), lr=learning_rate,\n",
        "                              weight_decay = weight_decay, momentum=momentum)\n",
        "\n",
        "train_losses = []\n",
        "test_losses = []\n",
        "test_accuracies = []\n",
        "#Training loop\n",
        "for epoch in range(num_epochs):\n",
        "  model.train()\n",
        "  epoch_loss = 0\n",
        "  correct = 0\n",
        "  total = 0\n",
        "  for X, y in train_iter:\n",
        "      X,y = X.to(DEVICE), y.to(DEVICE)\n",
        "\n",
        "      #Forward pass\n",
        "      logits, loss = model(X,y)\n",
        "      #Backward pass\n",
        "      optimizer.zero_grad()\n",
        "      loss.backward()\n",
        "      optimizer.step()\n",
        "\n",
        "      epoch_loss += loss.item()\n",
        "      preds = (torch.sigmoid(logits)>0.5).float()\n",
        "      correct += (preds == y).sum().item()\n",
        "      total+= y.size(0)\n",
        "\n",
        "  #Storing the training metrics\n",
        "  train_accuracy = correct/total\n",
        "  train_losses.append(epoch_loss/len(train_iter))\n",
        "\n",
        "  #Evaluation on the test set\n",
        "  model.eval()\n",
        "  test_loss = 0\n",
        "  correct = 0\n",
        "  total = 0\n",
        "\n",
        "  with torch.no_grad():\n",
        "    for X, y in test_iter:\n",
        "        X, y = X.to(DEVICE), y.to(DEVICE)\n",
        "        logits, loss = model(X, y)\n",
        "        test_loss += loss.item()\n",
        "        preds = (torch.sigmoid(logits) > 0.5).float()\n",
        "        correct += (preds == y).sum().item()\n",
        "        total += y.size(0)\n",
        "  test_losses.append(test_loss / len(test_iter))\n",
        "  test_accuracies.append(correct/total)\n",
        "\n",
        "  print(f'Epoch {epoch+1}: '\n",
        "          f'Train Loss: {train_losses[-1]:.4f}, '\n",
        "          f'Test Loss: {test_losses[-1]:.4f}, '\n",
        "          f'Test Accuracy: {test_accuracies[-1]:.4f}')\n",
        "\n",
        "# Plotting results\n",
        "plt.figure(figsize=(12, 5))\n",
        "plt.subplot(1, 2, 1)\n",
        "plt.plot(train_losses, label='Train Loss')\n",
        "plt.plot(test_losses, label='Test Loss')\n",
        "plt.xlabel('Epoch')\n",
        "plt.ylabel('Loss')\n",
        "plt.legend()"
      ],
      "metadata": {
        "colab": {
          "base_uri": "https://localhost:8080/",
          "height": 937
        },
        "id": "tg08WqFBNV84",
        "outputId": "98c63a0e-b7ef-49a2-b046-649144f59391"
      },
      "execution_count": 54,
      "outputs": [
        {
          "output_type": "stream",
          "name": "stdout",
          "text": [
            "Shape of seq_array:  torch.Size([800, 100])\n",
            "Shape of data_arrays, which now considers \n",
            "one-hot encoded sequence:  torch.Size([800, 20, 100])\n",
            "Shape of seq_array:  torch.Size([200, 100])\n",
            "Shape of data_arrays, which now considers \n",
            "one-hot encoded sequence:  torch.Size([200, 20, 100])\n",
            "Epoch 1: Train Loss: 0.6938, Test Loss: 0.6932, Test Accuracy: 0.5200\n",
            "Epoch 2: Train Loss: 0.6935, Test Loss: 0.6933, Test Accuracy: 0.5050\n",
            "Epoch 3: Train Loss: 0.6920, Test Loss: 0.6933, Test Accuracy: 0.5000\n",
            "Epoch 4: Train Loss: 0.6935, Test Loss: 0.6930, Test Accuracy: 0.4850\n",
            "Epoch 5: Train Loss: 0.6925, Test Loss: 0.6925, Test Accuracy: 0.4950\n",
            "Epoch 6: Train Loss: 0.6939, Test Loss: 0.6927, Test Accuracy: 0.5050\n",
            "Epoch 7: Train Loss: 0.6928, Test Loss: 0.6930, Test Accuracy: 0.5050\n",
            "Epoch 8: Train Loss: 0.6933, Test Loss: 0.6929, Test Accuracy: 0.5000\n",
            "Epoch 9: Train Loss: 0.6932, Test Loss: 0.6933, Test Accuracy: 0.5050\n",
            "Epoch 10: Train Loss: 0.6929, Test Loss: 0.6934, Test Accuracy: 0.5050\n",
            "Epoch 11: Train Loss: 0.6928, Test Loss: 0.6930, Test Accuracy: 0.5200\n",
            "Epoch 12: Train Loss: 0.6939, Test Loss: 0.6927, Test Accuracy: 0.5150\n",
            "Epoch 13: Train Loss: 0.6923, Test Loss: 0.6929, Test Accuracy: 0.5300\n",
            "Epoch 14: Train Loss: 0.6917, Test Loss: 0.6923, Test Accuracy: 0.5150\n",
            "Epoch 15: Train Loss: 0.6921, Test Loss: 0.6926, Test Accuracy: 0.5250\n",
            "Epoch 16: Train Loss: 0.6910, Test Loss: 0.6924, Test Accuracy: 0.5050\n",
            "Epoch 17: Train Loss: 0.6911, Test Loss: 0.6927, Test Accuracy: 0.5150\n",
            "Epoch 18: Train Loss: 0.6912, Test Loss: 0.6927, Test Accuracy: 0.5300\n",
            "Epoch 19: Train Loss: 0.6935, Test Loss: 0.6916, Test Accuracy: 0.5250\n",
            "Epoch 20: Train Loss: 0.6920, Test Loss: 0.6922, Test Accuracy: 0.5350\n"
          ]
        },
        {
          "output_type": "execute_result",
          "data": {
            "text/plain": [
              "<matplotlib.legend.Legend at 0x7a715eab4d10>"
            ]
          },
          "metadata": {},
          "execution_count": 54
        },
        {
          "output_type": "display_data",
          "data": {
            "text/plain": [
              "<Figure size 1200x500 with 1 Axes>"
            ],
            "image/png": "[encoded data removed]"
          },
          "metadata": {}
        }
      ]
    },
    {
      "cell_type": "code",
      "source": [
        "patience = 3  # number of epochs to wait for improvement\n",
        "best_loss = float('inf')\n",
        "epochs_without_improvement = 0\n",
        "\n",
        "for epoch in range(num_epochs):\n",
        "    model.train()\n",
        "    epoch_loss = 0\n",
        "    correct = 0\n",
        "    total = 0\n",
        "\n",
        "    for X, y in train_iter:\n",
        "        X, y = X.to(DEVICE), y.to(DEVICE)\n",
        "\n",
        "        logits, loss = model(X, y)\n",
        "        optimizer.zero_grad()\n",
        "        loss.backward()\n",
        "        optimizer.step()\n",
        "\n",
        "        epoch_loss += loss.item()\n",
        "        preds = (torch.sigmoid(logits) > 0.5).float()\n",
        "        correct += (preds == y).sum().item()\n",
        "        total += y.size(0)\n",
        "\n",
        "    train_accuracy = correct / total\n",
        "    train_losses.append(epoch_loss / len(train_iter))\n",
        "\n",
        "    # Evaluate\n",
        "    model.eval()\n",
        "    test_loss = 0\n",
        "    correct = 0\n",
        "    total = 0\n",
        "\n",
        "    with torch.no_grad():\n",
        "        for X, y in test_iter:\n",
        "            X, y = X.to(DEVICE), y.to(DEVICE)\n",
        "            logits, loss = model(X, y)\n",
        "            test_loss += loss.item()\n",
        "            preds = (torch.sigmoid(logits) > 0.5).float()\n",
        "            correct += (preds == y).sum().item()\n",
        "            total += y.size(0)\n",
        "\n",
        "    test_loss /= len(test_iter)\n",
        "    test_losses.append(test_loss)\n",
        "    test_accuracies.append(correct / total)\n",
        "\n",
        "    print(f'Epoch {epoch+1}: '\n",
        "          f'Train Loss: {train_losses[-1]:.4f}, '\n",
        "          f'Test Loss: {test_losses[-1]:.4f}, '\n",
        "          f'Test Accuracy: {test_accuracies[-1]:.4f}')\n",
        "\n",
        "    # Early stopping check\n",
        "    if test_loss < best_loss:\n",
        "        best_loss = test_loss\n",
        "        epochs_without_improvement = 0\n",
        "        best_model_state = model.state_dict()  # Save best model\n",
        "    else:\n",
        "        epochs_without_improvement += 1\n",
        "        if epochs_without_improvement >= patience:\n",
        "            print(f\"Early stopping triggered at epoch {epoch+1}\")\n",
        "            model.load_state_dict(best_model_state)  # Restore best model\n",
        "            break\n"
      ],
      "metadata": {
        "colab": {
          "base_uri": "https://localhost:8080/"
        },
        "id": "myCphKDkTw-N",
        "outputId": "be0bf3d3-7927-4721-af41-ef1d83f8ebb3"
      },
      "execution_count": 55,
      "outputs": [
        {
          "output_type": "stream",
          "name": "stdout",
          "text": [
            "Epoch 1: Train Loss: 0.6918, Test Loss: 0.6921, Test Accuracy: 0.5450\n",
            "Epoch 2: Train Loss: 0.6905, Test Loss: 0.6918, Test Accuracy: 0.5350\n",
            "Epoch 3: Train Loss: 0.6901, Test Loss: 0.6922, Test Accuracy: 0.5400\n",
            "Epoch 4: Train Loss: 0.6920, Test Loss: 0.6919, Test Accuracy: 0.5450\n",
            "Epoch 5: Train Loss: 0.6903, Test Loss: 0.6919, Test Accuracy: 0.5250\n",
            "Early stopping triggered at epoch 5\n"
          ]
        }
      ]
    },
    {
      "cell_type": "code",
      "source": [
        "batch_size = 64\n",
        "context_size = 100\n",
        "train_frac = 0.8\n",
        "learning_rate = 0.001\n",
        "dropout_rate = 0.2\n",
        "num_epochs = 20\n",
        "weight_decay = 0.001\n",
        "\n",
        "train_iter = load_data(batch_size=batch_size,\n",
        "                       num_steps = context_size,\n",
        "                       dataset=traindatalist,\n",
        "                       trainlabels=trainlabellist)\n",
        "\n",
        "test_iter = load_data(batch_size=batch_size,\n",
        "                      num_steps = context_size,\n",
        "                      dataset = testdatalist,\n",
        "                      trainlabels = testlabellist)\n",
        "\n",
        "# Initializing the model\n",
        "model = ProteinCNN1D(\n",
        "    vocab_size=20,\n",
        "    context_size=context_size,\n",
        "    conv_channels=128,\n",
        "    use_bias = False\n",
        ")\n",
        "model.to(DEVICE)\n",
        "\n",
        "# Using AdamW as the optimizer\n",
        "optimizer = torch.optim.AdamW(params=model.parameters(), lr=learning_rate,\n",
        "                              weight_decay = weight_decay)\n",
        "\n",
        "train_losses = []\n",
        "test_losses = []\n",
        "test_accuracies = []\n",
        "#Training loop\n",
        "for epoch in range(num_epochs):\n",
        "  model.train()\n",
        "  epoch_loss = 0\n",
        "  correct = 0\n",
        "  total = 0\n",
        "  for X, y in train_iter:\n",
        "      X,y = X.to(DEVICE), y.to(DEVICE)\n",
        "\n",
        "      #Forward pass\n",
        "      logits, loss = model(X,y)\n",
        "      #Backward pass\n",
        "      optimizer.zero_grad()\n",
        "      loss.backward()\n",
        "      optimizer.step()\n",
        "\n",
        "      epoch_loss += loss.item()\n",
        "      preds = (torch.sigmoid(logits)>0.5).float()\n",
        "      correct += (preds == y).sum().item()\n",
        "      total+= y.size(0)\n",
        "\n",
        "  #Storing the training metrics\n",
        "  train_accuracy = correct/total\n",
        "  train_losses.append(epoch_loss/len(train_iter))\n",
        "\n",
        "  #Evaluation on the test set\n",
        "  model.eval()\n",
        "  test_loss = 0\n",
        "  correct = 0\n",
        "  total = 0\n",
        "\n",
        "  with torch.no_grad():\n",
        "    for X, y in test_iter:\n",
        "        X, y = X.to(DEVICE), y.to(DEVICE)\n",
        "        logits, loss = model(X, y)\n",
        "        test_loss += loss.item()\n",
        "        preds = (torch.sigmoid(logits) > 0.5).float()\n",
        "        correct += (preds == y).sum().item()\n",
        "        total += y.size(0)\n",
        "  test_losses.append(test_loss / len(test_iter))\n",
        "  test_accuracies.append(correct/total)\n",
        "\n",
        "  print(f'Epoch {epoch+1}: '\n",
        "          f'Train Loss: {train_losses[-1]:.4f}, '\n",
        "          f'Test Loss: {test_losses[-1]:.4f}, '\n",
        "          f'Test Accuracy: {test_accuracies[-1]:.4f}')\n",
        "\n",
        "# Plotting results\n",
        "plt.figure(figsize=(12, 5))\n",
        "plt.subplot(1, 2, 1)\n",
        "plt.plot(train_losses, label='Train Loss')\n",
        "plt.plot(test_losses, label='Test Loss')\n",
        "plt.xlabel('Epoch')\n",
        "plt.ylabel('Loss')\n",
        "plt.legend()"
      ],
      "metadata": {
        "colab": {
          "base_uri": "https://localhost:8080/",
          "height": 934
        },
        "id": "mitTRDJAUZgN",
        "outputId": "8bf83a05-c315-4db7-fa63-66b4f37e6256"
      },
      "execution_count": 56,
      "outputs": [
        {
          "output_type": "stream",
          "name": "stdout",
          "text": [
            "Shape of seq_array:  torch.Size([800, 100])\n",
            "Shape of data_arrays, which now considers \n",
            "one-hot encoded sequence:  torch.Size([800, 20, 100])\n",
            "Shape of seq_array:  torch.Size([200, 100])\n",
            "Shape of data_arrays, which now considers \n",
            "one-hot encoded sequence:  torch.Size([200, 20, 100])\n",
            "Epoch 1: Train Loss: 0.6953, Test Loss: 0.6948, Test Accuracy: 0.4700\n",
            "Epoch 2: Train Loss: 0.6870, Test Loss: 0.6862, Test Accuracy: 0.5300\n",
            "Epoch 3: Train Loss: 0.6831, Test Loss: 0.6923, Test Accuracy: 0.4700\n",
            "Epoch 4: Train Loss: 0.6683, Test Loss: 0.6872, Test Accuracy: 0.5300\n",
            "Epoch 5: Train Loss: 0.6655, Test Loss: 0.6702, Test Accuracy: 0.5300\n",
            "Epoch 6: Train Loss: 0.6455, Test Loss: 0.6666, Test Accuracy: 0.6350\n",
            "Epoch 7: Train Loss: 0.6040, Test Loss: 0.6481, Test Accuracy: 0.6850\n",
            "Epoch 8: Train Loss: 0.5563, Test Loss: 0.6180, Test Accuracy: 0.6800\n",
            "Epoch 9: Train Loss: 0.4994, Test Loss: 0.5773, Test Accuracy: 0.6900\n",
            "Epoch 10: Train Loss: 0.4590, Test Loss: 0.5621, Test Accuracy: 0.7200\n",
            "Epoch 11: Train Loss: 0.4281, Test Loss: 0.5029, Test Accuracy: 0.7800\n",
            "Epoch 12: Train Loss: 0.4169, Test Loss: 0.5429, Test Accuracy: 0.7700\n",
            "Epoch 13: Train Loss: 0.3809, Test Loss: 0.5007, Test Accuracy: 0.7950\n",
            "Epoch 14: Train Loss: 0.3617, Test Loss: 0.4649, Test Accuracy: 0.7650\n",
            "Epoch 15: Train Loss: 0.3279, Test Loss: 0.4494, Test Accuracy: 0.8050\n",
            "Epoch 16: Train Loss: 0.3080, Test Loss: 0.4959, Test Accuracy: 0.8300\n",
            "Epoch 17: Train Loss: 0.2983, Test Loss: 0.4707, Test Accuracy: 0.7900\n",
            "Epoch 18: Train Loss: 0.3203, Test Loss: 0.4689, Test Accuracy: 0.8400\n",
            "Epoch 19: Train Loss: 0.2755, Test Loss: 0.4606, Test Accuracy: 0.8450\n",
            "Epoch 20: Train Loss: 0.2364, Test Loss: 0.4045, Test Accuracy: 0.8200\n"
          ]
        },
        {
          "output_type": "execute_result",
          "data": {
            "text/plain": [
              "<matplotlib.legend.Legend at 0x7a715e930790>"
            ]
          },
          "metadata": {},
          "execution_count": 56
        },
        {
          "output_type": "display_data",
          "data": {
            "text/plain": [
              "<Figure size 1200x500 with 1 Axes>"
            ],
            "image/png": "[encoded data removed]"
          },
          "metadata": {}
        }
      ]
    },
    {
      "cell_type": "markdown",
      "source": [
        "Modifying the CNN architecture to check for better performance using BatchNorm and using Kaiming initialization, which is used for networks with ReLU activation."
      ],
      "metadata": {
        "id": "wtIDfdbNZrBf"
      }
    },
    {
      "cell_type": "code",
      "source": [
        "import torch.nn.init as init\n"
      ],
      "metadata": {
        "id": "dKgCOroncxFL"
      },
      "execution_count": 58,
      "outputs": []
    },
    {
      "cell_type": "code",
      "source": [
        "class ProteinCNN1D_BatchNorm_Kaiming(nn.Module):\n",
        "  def __init__(self, vocab_size:int, context_size:int, conv_channels:int=128,\n",
        "                use_bias:bool=False, dropout_rate = 0.5, lr = 1, weight_decay=1e-4,\n",
        "               momentum = 0):\n",
        "      super().__init__()\n",
        "      assert context_size % 2 == 0, f'Invalid block_size, {context_size} is not an even number'\n",
        "      self.vocab_size = vocab_size\n",
        "      self.context_size = context_size\n",
        "      self.momentum = momentum\n",
        "      self.cnn = nn.Sequential(\n",
        "          nn.Conv1d(in_channels=self.vocab_size,\n",
        "                    out_channels=conv_channels,\n",
        "                    kernel_size=3,\n",
        "                    padding='same',\n",
        "                    bias=use_bias),\n",
        "          nn.BatchNorm1d(conv_channels),\n",
        "          nn.ReLU(),\n",
        "          nn.Dropout(dropout_rate),\n",
        "          nn.MaxPool1d(kernel_size = 2, stride = 2),\n",
        "\n",
        "          nn.Conv1d(in_channels=conv_channels,\n",
        "                    out_channels=conv_channels,\n",
        "                    kernel_size = 3,\n",
        "                    padding = 'same',\n",
        "                    bias = use_bias),\n",
        "          nn.BatchNorm1d(conv_channels),\n",
        "          nn.ReLU(),\n",
        "          nn.Dropout(dropout_rate),\n",
        "          nn.MaxPool1d(kernel_size = 2, stride = 2),\n",
        "\n",
        "          nn.Flatten(1, -1),\n",
        "          nn.Linear(in_features = int(conv_channels*self.context_size/4),\n",
        "                    out_features = 1,\n",
        "                    bias = use_bias)\n",
        "\n",
        "      )\n",
        "\n",
        "      self.init_weights()\n",
        "  def init_weights(self):\n",
        "        # Apply Kaiming initialization\n",
        "        for m in self.modules():\n",
        "            if isinstance(m, nn.Conv1d):\n",
        "                init.kaiming_normal_(m.weight, nonlinearity='relu')\n",
        "                if m.bias is not None:\n",
        "                    init.zeros_(m.bias)\n",
        "            elif isinstance(m, nn.Linear):\n",
        "                init.kaiming_normal_(m.weight, nonlinearity='sigmoid')\n",
        "                if m.bias is not None:\n",
        "                    init.zeros_(m.bias)\n",
        "\n",
        "  def forward(self, X:torch.tensor, targets: torch.tensor=None) -> tuple[torch.tensor, torch.tensor]:\n",
        "    logits = self.cnn(X).squeeze(1)\n",
        "    loss = None if targets is None else F.binary_cross_entropy_with_logits(\n",
        "        logits, targets.float())\n",
        "    return logits, loss"
      ],
      "metadata": {
        "id": "ENJAmKVrZ-La"
      },
      "execution_count": 59,
      "outputs": []
    },
    {
      "cell_type": "code",
      "source": [
        "batch_size = 64\n",
        "context_size = 100\n",
        "train_frac = 0.8\n",
        "learning_rate = 0.001\n",
        "dropout_rate = 0.2\n",
        "num_epochs = 20\n",
        "weight_decay = 0.001\n",
        "\n",
        "train_iter = load_data(batch_size=batch_size,\n",
        "                       num_steps = context_size,\n",
        "                       dataset=traindatalist,\n",
        "                       trainlabels=trainlabellist)\n",
        "\n",
        "test_iter = load_data(batch_size=batch_size,\n",
        "                      num_steps = context_size,\n",
        "                      dataset = testdatalist,\n",
        "                      trainlabels = testlabellist)\n",
        "\n",
        "# Initializing the model\n",
        "model = ProteinCNN1D_BatchNorm_Kaiming(\n",
        "    vocab_size=20,\n",
        "    context_size=context_size,\n",
        "    conv_channels=128,\n",
        "    use_bias = False\n",
        ")\n",
        "model.to(DEVICE)\n",
        "\n",
        "# Using AdamW as the optimizer\n",
        "optimizer = torch.optim.AdamW(params=model.parameters(), lr=learning_rate,\n",
        "                              weight_decay = weight_decay)\n",
        "\n",
        "train_losses = []\n",
        "test_losses = []\n",
        "test_accuracies = []\n",
        "#Training loop\n",
        "for epoch in range(num_epochs):\n",
        "  model.train()\n",
        "  epoch_loss = 0\n",
        "  correct = 0\n",
        "  total = 0\n",
        "  for X, y in train_iter:\n",
        "      X,y = X.to(DEVICE), y.to(DEVICE)\n",
        "\n",
        "      #Forward pass\n",
        "      logits, loss = model(X,y)\n",
        "      #Backward pass\n",
        "      optimizer.zero_grad()\n",
        "      loss.backward()\n",
        "      optimizer.step()\n",
        "\n",
        "      epoch_loss += loss.item()\n",
        "      preds = (torch.sigmoid(logits)>0.5).float()\n",
        "      correct += (preds == y).sum().item()\n",
        "      total+= y.size(0)\n",
        "\n",
        "  #Storing the training metrics\n",
        "  train_accuracy = correct/total\n",
        "  train_losses.append(epoch_loss/len(train_iter))\n",
        "\n",
        "  #Evaluation on the test set\n",
        "  model.eval()\n",
        "  test_loss = 0\n",
        "  correct = 0\n",
        "  total = 0\n",
        "\n",
        "  with torch.no_grad():\n",
        "    for X, y in test_iter:\n",
        "        X, y = X.to(DEVICE), y.to(DEVICE)\n",
        "        logits, loss = model(X, y)\n",
        "        test_loss += loss.item()\n",
        "        preds = (torch.sigmoid(logits) > 0.5).float()\n",
        "        correct += (preds == y).sum().item()\n",
        "        total += y.size(0)\n",
        "  test_losses.append(test_loss / len(test_iter))\n",
        "  test_accuracies.append(correct/total)\n",
        "\n",
        "  print(f'Epoch {epoch+1}: '\n",
        "          f'Train Loss: {train_losses[-1]:.4f}, '\n",
        "          f'Test Loss: {test_losses[-1]:.4f}, '\n",
        "          f'Test Accuracy: {test_accuracies[-1]:.4f}')\n",
        "\n",
        "# Plotting results\n",
        "plt.figure(figsize=(12, 5))\n",
        "plt.subplot(1, 2, 1)\n",
        "plt.plot(train_losses, label='Train Loss')\n",
        "plt.plot(test_losses, label='Test Loss')\n",
        "plt.xlabel('Epoch')\n",
        "plt.ylabel('Loss')\n",
        "plt.legend()"
      ],
      "metadata": {
        "colab": {
          "base_uri": "https://localhost:8080/",
          "height": 934
        },
        "id": "C-1OLIE3bVux",
        "outputId": "9369f051-5449-4eb6-881b-e8b293369982"
      },
      "execution_count": 60,
      "outputs": [
        {
          "output_type": "stream",
          "name": "stdout",
          "text": [
            "Shape of seq_array:  torch.Size([800, 100])\n",
            "Shape of data_arrays, which now considers \n",
            "one-hot encoded sequence:  torch.Size([800, 20, 100])\n",
            "Shape of seq_array:  torch.Size([200, 100])\n",
            "Shape of data_arrays, which now considers \n",
            "one-hot encoded sequence:  torch.Size([200, 20, 100])\n",
            "Epoch 1: Train Loss: 0.8905, Test Loss: 0.6939, Test Accuracy: 0.4650\n",
            "Epoch 2: Train Loss: 0.8022, Test Loss: 0.7029, Test Accuracy: 0.5400\n",
            "Epoch 3: Train Loss: 0.7529, Test Loss: 0.7055, Test Accuracy: 0.5100\n",
            "Epoch 4: Train Loss: 0.6940, Test Loss: 0.6850, Test Accuracy: 0.5700\n",
            "Epoch 5: Train Loss: 0.6918, Test Loss: 0.6619, Test Accuracy: 0.5800\n",
            "Epoch 6: Train Loss: 0.6629, Test Loss: 0.6575, Test Accuracy: 0.6050\n",
            "Epoch 7: Train Loss: 0.5584, Test Loss: 0.6850, Test Accuracy: 0.5900\n",
            "Epoch 8: Train Loss: 0.5626, Test Loss: 0.6967, Test Accuracy: 0.6200\n",
            "Epoch 9: Train Loss: 0.5014, Test Loss: 0.6268, Test Accuracy: 0.6200\n",
            "Epoch 10: Train Loss: 0.4650, Test Loss: 0.6315, Test Accuracy: 0.6350\n",
            "Epoch 11: Train Loss: 0.4666, Test Loss: 0.7157, Test Accuracy: 0.6550\n",
            "Epoch 12: Train Loss: 0.4540, Test Loss: 0.6382, Test Accuracy: 0.6700\n",
            "Epoch 13: Train Loss: 0.4139, Test Loss: 0.6070, Test Accuracy: 0.6500\n",
            "Epoch 14: Train Loss: 0.4242, Test Loss: 0.6175, Test Accuracy: 0.6500\n",
            "Epoch 15: Train Loss: 0.4102, Test Loss: 0.6054, Test Accuracy: 0.6950\n",
            "Epoch 16: Train Loss: 0.3638, Test Loss: 0.5943, Test Accuracy: 0.6750\n",
            "Epoch 17: Train Loss: 0.3533, Test Loss: 0.5575, Test Accuracy: 0.6700\n",
            "Epoch 18: Train Loss: 0.3250, Test Loss: 0.5450, Test Accuracy: 0.6750\n",
            "Epoch 19: Train Loss: 0.3432, Test Loss: 0.6236, Test Accuracy: 0.7100\n",
            "Epoch 20: Train Loss: 0.3503, Test Loss: 0.6043, Test Accuracy: 0.7200\n"
          ]
        },
        {
          "output_type": "execute_result",
          "data": {
            "text/plain": [
              "<matplotlib.legend.Legend at 0x7a715e93ec90>"
            ]
          },
          "metadata": {},
          "execution_count": 60
        },
        {
          "output_type": "display_data",
          "data": {
            "text/plain": [
              "<Figure size 1200x500 with 1 Axes>"
            ],
            "image/png": "[encoded data removed]"
          },
          "metadata": {}
        }
      ]
    }
  ]
}