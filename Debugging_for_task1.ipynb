{
  "nbformat": 4,
  "nbformat_minor": 0,
  "metadata": {
    "colab": {
      "provenance": [],
      "authorship_tag": "ABX9TyPOn2thu6aZZ608FB2chjiF",
      "include_colab_link": true
    },
    "kernelspec": {
      "name": "python3",
      "display_name": "Python 3"
    },
    "language_info": {
      "name": "python"
    }
  },
  "cells": [
    {
      "cell_type": "markdown",
      "metadata": {
        "id": "view-in-github",
        "colab_type": "text"
      },
      "source": [
        "<a href=\"https://colab.research.google.com/github/anushahulbatte/deeplearning/blob/main/Debugging_for_task1.ipynb\" target=\"_parent\"><img src=\"https://colab.research.google.com/assets/colab-badge.svg\" alt=\"Open In Colab\"/></a>"
      ]
    },
    {
      "cell_type": "code",
      "execution_count": 1,
      "metadata": {
        "colab": {
          "base_uri": "https://localhost:8080/"
        },
        "id": "8To09EUr5fiV",
        "outputId": "a81d979d-db01-44d7-8b4c-9d98c4b14adc"
      },
      "outputs": [
        {
          "output_type": "stream",
          "name": "stdout",
          "text": [
            "\u001b[2K     \u001b[90m━━━━━━━━━━━━━━━━━━━━━━━━━━━━━━━━━━━━━━━\u001b[0m \u001b[32m908.3/908.3 MB\u001b[0m \u001b[31m1.9 MB/s\u001b[0m eta \u001b[36m0:00:00\u001b[0m\n",
            "\u001b[2K     \u001b[90m━━━━━━━━━━━━━━━━━━━━━━━━━━━━━━━━━━━━━━━━\u001b[0m \u001b[32m7.3/7.3 MB\u001b[0m \u001b[31m67.4 MB/s\u001b[0m eta \u001b[36m0:00:00\u001b[0m\n",
            "\u001b[2K     \u001b[90m━━━━━━━━━━━━━━━━━━━━━━━━━━━━━━━━━━━━━━━━\u001b[0m \u001b[32m3.4/3.4 MB\u001b[0m \u001b[31m67.5 MB/s\u001b[0m eta \u001b[36m0:00:00\u001b[0m\n",
            "\u001b[2K     \u001b[90m━━━━━━━━━━━━━━━━━━━━━━━━━━━━━━━━━━━━━━━━\u001b[0m \u001b[32m24.6/24.6 MB\u001b[0m \u001b[31m62.6 MB/s\u001b[0m eta \u001b[36m0:00:00\u001b[0m\n",
            "\u001b[2K     \u001b[90m━━━━━━━━━━━━━━━━━━━━━━━━━━━━━━━━━━━━━━\u001b[0m \u001b[32m883.7/883.7 kB\u001b[0m \u001b[31m46.5 MB/s\u001b[0m eta \u001b[36m0:00:00\u001b[0m\n",
            "\u001b[2K     \u001b[90m━━━━━━━━━━━━━━━━━━━━━━━━━━━━━━━━━━━━━━━━\u001b[0m \u001b[32m13.8/13.8 MB\u001b[0m \u001b[31m81.7 MB/s\u001b[0m eta \u001b[36m0:00:00\u001b[0m\n",
            "\u001b[2K     \u001b[90m━━━━━━━━━━━━━━━━━━━━━━━━━━━━━━━━━━━━━━━\u001b[0m \u001b[32m664.8/664.8 MB\u001b[0m \u001b[31m2.6 MB/s\u001b[0m eta \u001b[36m0:00:00\u001b[0m\n",
            "\u001b[2K     \u001b[90m━━━━━━━━━━━━━━━━━━━━━━━━━━━━━━━━━━━━━━━\u001b[0m \u001b[32m363.4/363.4 MB\u001b[0m \u001b[31m4.5 MB/s\u001b[0m eta \u001b[36m0:00:00\u001b[0m\n",
            "\u001b[2K     \u001b[90m━━━━━━━━━━━━━━━━━━━━━━━━━━━━━━━━━━━━━━━\u001b[0m \u001b[32m211.5/211.5 MB\u001b[0m \u001b[31m5.8 MB/s\u001b[0m eta \u001b[36m0:00:00\u001b[0m\n",
            "\u001b[2K     \u001b[90m━━━━━━━━━━━━━━━━━━━━━━━━━━━━━━━━━━━━━━━━\u001b[0m \u001b[32m56.3/56.3 MB\u001b[0m \u001b[31m12.0 MB/s\u001b[0m eta \u001b[36m0:00:00\u001b[0m\n",
            "\u001b[2K     \u001b[90m━━━━━━━━━━━━━━━━━━━━━━━━━━━━━━━━━━━━━━━\u001b[0m \u001b[32m127.9/127.9 MB\u001b[0m \u001b[31m8.1 MB/s\u001b[0m eta \u001b[36m0:00:00\u001b[0m\n",
            "\u001b[2K     \u001b[90m━━━━━━━━━━━━━━━━━━━━━━━━━━━━━━━━━━━━━━━\u001b[0m \u001b[32m207.5/207.5 MB\u001b[0m \u001b[31m5.6 MB/s\u001b[0m eta \u001b[36m0:00:00\u001b[0m\n",
            "\u001b[2K     \u001b[90m━━━━━━━━━━━━━━━━━━━━━━━━━━━━━━━━━━━━━━━━\u001b[0m \u001b[32m21.1/21.1 MB\u001b[0m \u001b[31m70.6 MB/s\u001b[0m eta \u001b[36m0:00:00\u001b[0m\n",
            "\u001b[2K     \u001b[90m━━━━━━━━━━━━━━━━━━━━━━━━━━━━━━━━━━━━━━━\u001b[0m \u001b[32m209.5/209.5 MB\u001b[0m \u001b[31m6.1 MB/s\u001b[0m eta \u001b[36m0:00:00\u001b[0m\n",
            "\u001b[?25hPyTorch version updated to 2.5.1.\n"
          ]
        }
      ],
      "source": [
        "import torch\n",
        "\n",
        "if torch.__version__ != '2.5.1+cu124':\n",
        "    !pip install torch==2.5.1+cu124 torchvision==0.20.1+cu124 torchaudio==2.5.1 --index-url https://download.pytorch.org/whl/cu124 -U --quiet\n",
        "    print(\"PyTorch version updated to 2.5.1.\")\n",
        "else:\n",
        "    print(\"PyTorch is already at the correct version (2.5.1).\")"
      ]
    },
    {
      "cell_type": "code",
      "source": [
        "!pip install d2l==1.0.3 --quiet\n",
        "!pip install scipy --quiet\n",
        "!pip install torchmetrics --quiet"
      ],
      "metadata": {
        "colab": {
          "base_uri": "https://localhost:8080/"
        },
        "id": "jQGccqwf5k7O",
        "outputId": "320a2614-783f-42b9-e9e2-f88ba0dd86ea"
      },
      "execution_count": 2,
      "outputs": [
        {
          "output_type": "stream",
          "name": "stdout",
          "text": [
            "\u001b[2K     \u001b[90m━━━━━━━━━━━━━━━━━━━━━━━━━━━━━━━━━━━━━━━━\u001b[0m \u001b[32m58.9/58.9 kB\u001b[0m \u001b[31m4.1 MB/s\u001b[0m eta \u001b[36m0:00:00\u001b[0m\n",
            "\u001b[2K   \u001b[90m━━━━━━━━━━━━━━━━━━━━━━━━━━━━━━━━━━━━━━━━\u001b[0m \u001b[32m111.7/111.7 kB\u001b[0m \u001b[31m8.0 MB/s\u001b[0m eta \u001b[36m0:00:00\u001b[0m\n",
            "\u001b[2K   \u001b[90m━━━━━━━━━━━━━━━━━━━━━━━━━━━━━━━━━━━━━━━━\u001b[0m \u001b[32m11.6/11.6 MB\u001b[0m \u001b[31m99.8 MB/s\u001b[0m eta \u001b[36m0:00:00\u001b[0m\n",
            "\u001b[2K   \u001b[90m━━━━━━━━━━━━━━━━━━━━━━━━━━━━━━━━━━━━━━━━\u001b[0m \u001b[32m17.1/17.1 MB\u001b[0m \u001b[31m86.4 MB/s\u001b[0m eta \u001b[36m0:00:00\u001b[0m\n",
            "\u001b[2K   \u001b[90m━━━━━━━━━━━━━━━━━━━━━━━━━━━━━━━━━━━━━━━━\u001b[0m \u001b[32m12.2/12.2 MB\u001b[0m \u001b[31m100.1 MB/s\u001b[0m eta \u001b[36m0:00:00\u001b[0m\n",
            "\u001b[2K   \u001b[90m━━━━━━━━━━━━━━━━━━━━━━━━━━━━━━━━━━━━━━━━\u001b[0m \u001b[32m62.6/62.6 kB\u001b[0m \u001b[31m4.3 MB/s\u001b[0m eta \u001b[36m0:00:00\u001b[0m\n",
            "\u001b[2K   \u001b[90m━━━━━━━━━━━━━━━━━━━━━━━━━━━━━━━━━━━━━━━━\u001b[0m \u001b[32m34.1/34.1 MB\u001b[0m \u001b[31m13.3 MB/s\u001b[0m eta \u001b[36m0:00:00\u001b[0m\n",
            "\u001b[2K   \u001b[90m━━━━━━━━━━━━━━━━━━━━━━━━━━━━━━━━━━━━━━━━\u001b[0m \u001b[32m98.3/98.3 kB\u001b[0m \u001b[31m7.6 MB/s\u001b[0m eta \u001b[36m0:00:00\u001b[0m\n",
            "\u001b[2K   \u001b[90m━━━━━━━━━━━━━━━━━━━━━━━━━━━━━━━━━━━━━━━━\u001b[0m \u001b[32m125.0/125.0 kB\u001b[0m \u001b[31m10.2 MB/s\u001b[0m eta \u001b[36m0:00:00\u001b[0m\n",
            "\u001b[2K   \u001b[90m━━━━━━━━━━━━━━━━━━━━━━━━━━━━━━━━━━━━━━━━\u001b[0m \u001b[32m95.0/95.0 kB\u001b[0m \u001b[31m7.4 MB/s\u001b[0m eta \u001b[36m0:00:00\u001b[0m\n",
            "\u001b[2K   \u001b[90m━━━━━━━━━━━━━━━━━━━━━━━━━━━━━━━━━━━━━━━━\u001b[0m \u001b[32m1.6/1.6 MB\u001b[0m \u001b[31m48.1 MB/s\u001b[0m eta \u001b[36m0:00:00\u001b[0m\n",
            "\u001b[?25h\u001b[31mERROR: pip's dependency resolver does not currently take into account all the packages that are installed. This behaviour is the source of the following dependency conflicts.\n",
            "google-colab 1.0.0 requires pandas==2.2.2, but you have pandas 2.0.3 which is incompatible.\n",
            "google-colab 1.0.0 requires requests==2.32.3, but you have requests 2.31.0 which is incompatible.\n",
            "xarray 2025.1.2 requires numpy>=1.24, but you have numpy 1.23.5 which is incompatible.\n",
            "xarray 2025.1.2 requires pandas>=2.1, but you have pandas 2.0.3 which is incompatible.\n",
            "bigframes 1.42.0 requires numpy>=1.24.0, but you have numpy 1.23.5 which is incompatible.\n",
            "chex 0.1.89 requires numpy>=1.24.1, but you have numpy 1.23.5 which is incompatible.\n",
            "albumentations 2.0.5 requires numpy>=1.24.4, but you have numpy 1.23.5 which is incompatible.\n",
            "pymc 5.21.2 requires numpy>=1.25.0, but you have numpy 1.23.5 which is incompatible.\n",
            "tensorflow 2.18.0 requires numpy<2.1.0,>=1.26.0, but you have numpy 1.23.5 which is incompatible.\n",
            "treescope 0.1.9 requires numpy>=1.25.2, but you have numpy 1.23.5 which is incompatible.\n",
            "mizani 0.13.2 requires pandas>=2.2.0, but you have pandas 2.0.3 which is incompatible.\n",
            "albucore 0.0.23 requires numpy>=1.24.4, but you have numpy 1.23.5 which is incompatible.\n",
            "cvxpy 1.6.4 requires scipy>=1.11.0, but you have scipy 1.10.1 which is incompatible.\n",
            "jax 0.5.2 requires numpy>=1.25, but you have numpy 1.23.5 which is incompatible.\n",
            "jax 0.5.2 requires scipy>=1.11.1, but you have scipy 1.10.1 which is incompatible.\n",
            "scikit-image 0.25.2 requires numpy>=1.24, but you have numpy 1.23.5 which is incompatible.\n",
            "scikit-image 0.25.2 requires scipy>=1.11.4, but you have scipy 1.10.1 which is incompatible.\n",
            "blosc2 3.3.0 requires numpy>=1.26, but you have numpy 1.23.5 which is incompatible.\n",
            "thinc 8.3.6 requires numpy<3.0.0,>=2.0.0, but you have numpy 1.23.5 which is incompatible.\n",
            "plotnine 0.14.5 requires matplotlib>=3.8.0, but you have matplotlib 3.7.2 which is incompatible.\n",
            "plotnine 0.14.5 requires pandas>=2.2.0, but you have pandas 2.0.3 which is incompatible.\n",
            "jaxlib 0.5.1 requires numpy>=1.25, but you have numpy 1.23.5 which is incompatible.\n",
            "jaxlib 0.5.1 requires scipy>=1.11.1, but you have scipy 1.10.1 which is incompatible.\n",
            "imbalanced-learn 0.13.0 requires numpy<3,>=1.24.3, but you have numpy 1.23.5 which is incompatible.\u001b[0m\u001b[31m\n",
            "\u001b[2K   \u001b[90m━━━━━━━━━━━━━━━━━━━━━━━━━━━━━━━━━━━━━━━━\u001b[0m \u001b[32m961.5/961.5 kB\u001b[0m \u001b[31m40.9 MB/s\u001b[0m eta \u001b[36m0:00:00\u001b[0m\n",
            "\u001b[?25h"
          ]
        }
      ]
    },
    {
      "cell_type": "code",
      "source": [
        "import torch\n",
        "import torch.nn as nn\n",
        "import torch.nn.functional as F\n",
        "from torch.utils.data.dataloader import DataLoader\n",
        "from torch.utils.data import RandomSampler, random_split\n",
        "\n",
        "from tqdm.auto import tqdm, trange\n",
        "from matplotlib import pyplot as plt\n",
        "\n",
        "DEVICE = torch.device(\"mps\")"
      ],
      "metadata": {
        "id": "sdRdoyUo5mPa"
      },
      "execution_count": 3,
      "outputs": []
    },
    {
      "cell_type": "code",
      "source": [
        "import random\n",
        "import os\n",
        "import matplotlib.pyplot as plt\n",
        "import csv\n",
        "import numpy as np\n"
      ],
      "metadata": {
        "id": "F3iA_bVH5n8Z"
      },
      "execution_count": 4,
      "outputs": []
    },
    {
      "cell_type": "code",
      "source": [
        "import os\n",
        "! git clone https://git.wur.nl/bioinformatics/grs34806-deep-learning-project-data.git\n",
        "os.chdir(\"grs34806-deep-learning-project-data\")"
      ],
      "metadata": {
        "colab": {
          "base_uri": "https://localhost:8080/"
        },
        "id": "aEQdkxN365HX",
        "outputId": "47e25061-eae1-479f-d639-32e4f6bb6a80"
      },
      "execution_count": 5,
      "outputs": [
        {
          "output_type": "stream",
          "name": "stdout",
          "text": [
            "Cloning into 'grs34806-deep-learning-project-data'...\n",
            "remote: Enumerating objects: 21, done.\u001b[K\n",
            "remote: Total 21 (delta 0), reused 0 (delta 0), pack-reused 21 (from 1)\u001b[K\n",
            "Receiving objects: 100% (21/21), 8.74 MiB | 8.96 MiB/s, done.\n"
          ]
        }
      ]
    },
    {
      "cell_type": "code",
      "source": [
        "seqfile = \"/content/grs34806-deep-learning-project-data/len100_200_n1000.seq\"\n",
        "posfile = \"/content/grs34806-deep-learning-project-data/len100_200_n1000.pos\""
      ],
      "metadata": {
        "id": "lmDjWKni705T"
      },
      "execution_count": 6,
      "outputs": []
    },
    {
      "cell_type": "code",
      "source": [
        "def read(seqfile, posfile):\n",
        "  \"\"\"\n",
        "  Extracting the sequences from the seqfile and creating a list called datalist.\n",
        "  Making a list called labellist containing 0s and 1s, where 1 denotes the\n",
        "  sequence identifiers in the posfile.\n",
        "  \"\"\"\n",
        "  # Removing the sequence identifiers\n",
        "  with open(seqfile, 'r') as f:\n",
        "    seq_lines = [seq_lines.strip() for seq_lines in f.readlines() if seq_lines.strip()]\n",
        "    #print(seq_lines)\n",
        "  seq_ids = []\n",
        "  datalist = []\n",
        "  current_seq = \"\"\n",
        "  for line in seq_lines:\n",
        "    if line.startswith(\"seq\"):\n",
        "      parts = line.split()\n",
        "      #print(parts)\n",
        "      seq_ids.append(parts[0])\n",
        "      datalist.append(parts[1])\n",
        "\n",
        "  with open(posfile, 'r') as f:\n",
        "    annotated_ids = [line.strip() for line in f.readlines() if line.strip()]\n",
        "    print(annotated_ids)\n",
        "  labellist = [1 if seq_id in annotated_ids else 0 for seq_id in seq_ids]\n",
        "  print(labellist)\n",
        "\n",
        "\n",
        "read(seqfile, posfile)"
      ],
      "metadata": {
        "colab": {
          "base_uri": "https://localhost:8080/"
        },
        "id": "TuiXJEqM7VyX",
        "outputId": "5c5b1e6f-ea16-4664-b8d9-4993c552ed94"
      },
      "execution_count": 23,
      "outputs": [
        {
          "output_type": "stream",
          "name": "stdout",
          "text": [
            "['seq1', 'seq4', 'seq7', 'seq9', 'seq10', 'seq12', 'seq13', 'seq14', 'seq16', 'seq17', 'seq19', 'seq20', 'seq23', 'seq24', 'seq25', 'seq26', 'seq27', 'seq29', 'seq35', 'seq37', 'seq41', 'seq42', 'seq44', 'seq50', 'seq52', 'seq53', 'seq54', 'seq55', 'seq56', 'seq57', 'seq58', 'seq59', 'seq60', 'seq62', 'seq64', 'seq65', 'seq67', 'seq68', 'seq69', 'seq70', 'seq72', 'seq73', 'seq75', 'seq77', 'seq82', 'seq83', 'seq85', 'seq86', 'seq87', 'seq90', 'seq91', 'seq94', 'seq95', 'seq96', 'seq97', 'seq98', 'seq101', 'seq104', 'seq105', 'seq106', 'seq108', 'seq109', 'seq112', 'seq113', 'seq116', 'seq117', 'seq118', 'seq119', 'seq121', 'seq122', 'seq123', 'seq124', 'seq126', 'seq127', 'seq128', 'seq132', 'seq133', 'seq135', 'seq137', 'seq138', 'seq142', 'seq143', 'seq146', 'seq148', 'seq152', 'seq156', 'seq157', 'seq158', 'seq159', 'seq160', 'seq161', 'seq162', 'seq167', 'seq169', 'seq172', 'seq173', 'seq174', 'seq176', 'seq179', 'seq180', 'seq183', 'seq188', 'seq191', 'seq192', 'seq196', 'seq197', 'seq198', 'seq199', 'seq200', 'seq203', 'seq204', 'seq206', 'seq208', 'seq213', 'seq214', 'seq217', 'seq218', 'seq220', 'seq222', 'seq224', 'seq225', 'seq227', 'seq231', 'seq235', 'seq236', 'seq238', 'seq239', 'seq243', 'seq246', 'seq249', 'seq250', 'seq251', 'seq253', 'seq255', 'seq256', 'seq258', 'seq261', 'seq263', 'seq264', 'seq266', 'seq267', 'seq270', 'seq273', 'seq274', 'seq275', 'seq280', 'seq282', 'seq284', 'seq286', 'seq287', 'seq291', 'seq296', 'seq298', 'seq300', 'seq302', 'seq303', 'seq304', 'seq305', 'seq306', 'seq307', 'seq309', 'seq310', 'seq311', 'seq312', 'seq314', 'seq315', 'seq316', 'seq318', 'seq320', 'seq324', 'seq328', 'seq335', 'seq336', 'seq338', 'seq339', 'seq340', 'seq342', 'seq343', 'seq344', 'seq347', 'seq348', 'seq350', 'seq353', 'seq354', 'seq356', 'seq357', 'seq362', 'seq363', 'seq365', 'seq366', 'seq367', 'seq372', 'seq373', 'seq376', 'seq378', 'seq384', 'seq387', 'seq390', 'seq391', 'seq392', 'seq393', 'seq395', 'seq398', 'seq399', 'seq400', 'seq401', 'seq402', 'seq403', 'seq404', 'seq405', 'seq410', 'seq414', 'seq417', 'seq419', 'seq422', 'seq423', 'seq424', 'seq426', 'seq427', 'seq428', 'seq431', 'seq432', 'seq433', 'seq437', 'seq439', 'seq440', 'seq441', 'seq443', 'seq447', 'seq451', 'seq454', 'seq457', 'seq458', 'seq459', 'seq462', 'seq463', 'seq471', 'seq475', 'seq476', 'seq477', 'seq478', 'seq480', 'seq483', 'seq485', 'seq486', 'seq489', 'seq490', 'seq491', 'seq492', 'seq493', 'seq495', 'seq497', 'seq498', 'seq501', 'seq502', 'seq503', 'seq504', 'seq505', 'seq506', 'seq508', 'seq509', 'seq510', 'seq511', 'seq513', 'seq515', 'seq517', 'seq519', 'seq521', 'seq522', 'seq523', 'seq527', 'seq528', 'seq529', 'seq530', 'seq531', 'seq533', 'seq534', 'seq536', 'seq538', 'seq539', 'seq541', 'seq542', 'seq543', 'seq545', 'seq550', 'seq551', 'seq552', 'seq553', 'seq555', 'seq556', 'seq557', 'seq559', 'seq560', 'seq564', 'seq566', 'seq567', 'seq568', 'seq572', 'seq573', 'seq575', 'seq577', 'seq579', 'seq580', 'seq581', 'seq584', 'seq588', 'seq589', 'seq590', 'seq591', 'seq593', 'seq594', 'seq595', 'seq596', 'seq598', 'seq602', 'seq604', 'seq606', 'seq607', 'seq610', 'seq611', 'seq618', 'seq620', 'seq622', 'seq625', 'seq627', 'seq628', 'seq629', 'seq630', 'seq632', 'seq634', 'seq636', 'seq638', 'seq639', 'seq641', 'seq642', 'seq643', 'seq644', 'seq645', 'seq646', 'seq648', 'seq650', 'seq652', 'seq653', 'seq660', 'seq661', 'seq664', 'seq666', 'seq669', 'seq673', 'seq675', 'seq678', 'seq680', 'seq681', 'seq683', 'seq684', 'seq689', 'seq690', 'seq691', 'seq696', 'seq697', 'seq701', 'seq702', 'seq705', 'seq707', 'seq709', 'seq710', 'seq711', 'seq712', 'seq715', 'seq718', 'seq720', 'seq721', 'seq723', 'seq724', 'seq726', 'seq728', 'seq730', 'seq731', 'seq732', 'seq733', 'seq734', 'seq735', 'seq738', 'seq740', 'seq742', 'seq745', 'seq746', 'seq747', 'seq748', 'seq749', 'seq750', 'seq753', 'seq755', 'seq756', 'seq757', 'seq758', 'seq759', 'seq760', 'seq762', 'seq763', 'seq764', 'seq766', 'seq767', 'seq768', 'seq769', 'seq779', 'seq784', 'seq787', 'seq788', 'seq789', 'seq790', 'seq791', 'seq793', 'seq795', 'seq798', 'seq802', 'seq805', 'seq806', 'seq807', 'seq809', 'seq811', 'seq816', 'seq818', 'seq819', 'seq823', 'seq825', 'seq826', 'seq831', 'seq835', 'seq837', 'seq839', 'seq845', 'seq848', 'seq850', 'seq852', 'seq853', 'seq854', 'seq855', 'seq859', 'seq860', 'seq862', 'seq866', 'seq867', 'seq870', 'seq873', 'seq879', 'seq881', 'seq883', 'seq884', 'seq885', 'seq887', 'seq888', 'seq889', 'seq890', 'seq892', 'seq893', 'seq897', 'seq898', 'seq900', 'seq903', 'seq913', 'seq914', 'seq915', 'seq919', 'seq920', 'seq923', 'seq924', 'seq925', 'seq927', 'seq930', 'seq931', 'seq934', 'seq935', 'seq938', 'seq941', 'seq943', 'seq945', 'seq946', 'seq947', 'seq948', 'seq949', 'seq951', 'seq952', 'seq953', 'seq955', 'seq956', 'seq957', 'seq959', 'seq960', 'seq961', 'seq964', 'seq967', 'seq969', 'seq971', 'seq972', 'seq974', 'seq975', 'seq978', 'seq980', 'seq981', 'seq985', 'seq986', 'seq987', 'seq993', 'seq995', 'seq999', 'seq1000']\n",
            "[1, 0, 0, 1, 0, 0, 1, 0, 1, 1, 0, 1, 1, 1, 0, 1, 1, 0, 1, 1, 0, 0, 1, 1, 1, 1, 1, 0, 1, 0, 0, 0, 0, 0, 1, 0, 1, 0, 0, 0, 1, 1, 0, 1, 0, 0, 0, 0, 0, 1, 0, 1, 1, 1, 1, 1, 1, 1, 1, 1, 0, 1, 0, 1, 1, 0, 1, 1, 1, 1, 0, 1, 1, 0, 1, 0, 1, 0, 0, 0, 0, 1, 1, 0, 1, 1, 1, 0, 0, 1, 1, 0, 0, 1, 1, 1, 1, 1, 0, 0, 1, 0, 0, 1, 1, 1, 0, 1, 1, 0, 0, 1, 1, 0, 0, 1, 1, 1, 1, 0, 1, 1, 1, 1, 0, 1, 1, 1, 0, 0, 0, 1, 1, 0, 1, 0, 1, 1, 0, 0, 0, 1, 1, 0, 0, 1, 0, 1, 0, 0, 0, 1, 0, 0, 0, 1, 1, 1, 1, 1, 1, 1, 0, 0, 0, 0, 1, 0, 1, 0, 0, 1, 1, 1, 0, 1, 0, 0, 1, 1, 0, 0, 1, 0, 0, 0, 0, 1, 0, 0, 1, 1, 0, 0, 0, 1, 1, 1, 1, 1, 0, 0, 1, 1, 0, 1, 0, 1, 0, 0, 0, 0, 1, 1, 0, 0, 1, 1, 0, 1, 0, 1, 0, 1, 1, 0, 1, 0, 0, 0, 1, 0, 0, 0, 1, 1, 0, 1, 1, 0, 0, 0, 1, 0, 0, 1, 0, 0, 1, 1, 1, 0, 1, 0, 1, 1, 0, 1, 0, 0, 1, 0, 1, 1, 0, 1, 1, 0, 0, 1, 0, 0, 1, 1, 1, 0, 0, 0, 0, 1, 0, 1, 0, 1, 0, 1, 1, 0, 0, 0, 1, 0, 0, 0, 0, 1, 0, 1, 0, 1, 0, 1, 1, 1, 1, 1, 1, 0, 1, 1, 1, 1, 0, 1, 1, 1, 0, 1, 0, 1, 0, 0, 0, 1, 0, 0, 0, 1, 0, 0, 0, 0, 0, 0, 1, 1, 0, 1, 1, 1, 0, 1, 1, 1, 0, 0, 1, 1, 0, 1, 0, 0, 1, 1, 0, 1, 1, 0, 0, 0, 0, 1, 1, 0, 1, 1, 1, 0, 0, 0, 0, 1, 1, 0, 0, 1, 0, 1, 0, 0, 0, 0, 0, 1, 0, 0, 1, 0, 0, 1, 1, 1, 1, 0, 1, 0, 0, 1, 1, 1, 1, 1, 1, 1, 1, 0, 0, 0, 0, 1, 0, 0, 0, 1, 0, 0, 1, 0, 1, 0, 0, 1, 1, 1, 0, 1, 1, 1, 0, 0, 1, 1, 1, 0, 0, 0, 1, 0, 1, 1, 1, 0, 1, 0, 0, 0, 1, 0, 0, 0, 1, 0, 0, 1, 0, 0, 1, 1, 1, 0, 0, 1, 1, 0, 0, 0, 0, 0, 0, 0, 1, 0, 0, 0, 1, 1, 1, 1, 0, 1, 0, 0, 1, 0, 1, 1, 0, 0, 1, 1, 1, 1, 1, 0, 1, 0, 1, 1, 0, 0, 1, 1, 1, 1, 1, 1, 0, 1, 1, 1, 1, 0, 1, 0, 1, 0, 1, 0, 1, 0, 1, 1, 1, 0, 0, 0, 1, 1, 1, 1, 1, 0, 1, 1, 0, 1, 0, 1, 1, 0, 1, 1, 1, 0, 1, 0, 0, 0, 0, 1, 1, 1, 1, 0, 1, 1, 1, 0, 1, 1, 0, 0, 0, 1, 0, 1, 1, 1, 0, 0, 0, 1, 1, 0, 1, 0, 1, 0, 1, 1, 1, 0, 0, 1, 0, 0, 0, 1, 1, 1, 1, 0, 1, 1, 1, 1, 0, 1, 0, 0, 0, 1, 0, 1, 0, 1, 1, 0, 0, 1, 1, 0, 0, 0, 0, 0, 0, 1, 0, 1, 0, 1, 0, 0, 1, 0, 1, 1, 1, 1, 0, 1, 0, 1, 0, 1, 0, 1, 1, 0, 1, 1, 1, 1, 1, 1, 0, 1, 0, 1, 0, 1, 1, 0, 0, 0, 0, 0, 0, 1, 1, 0, 0, 1, 0, 1, 0, 0, 1, 0, 0, 0, 1, 0, 1, 0, 0, 1, 0, 1, 1, 0, 1, 1, 0, 0, 0, 0, 1, 1, 1, 0, 0, 0, 0, 1, 1, 0, 0, 0, 1, 1, 0, 0, 1, 0, 1, 0, 1, 1, 1, 1, 0, 0, 1, 0, 0, 1, 0, 1, 1, 0, 1, 1, 0, 1, 0, 1, 0, 1, 1, 1, 1, 1, 1, 0, 0, 1, 0, 1, 0, 1, 0, 0, 1, 1, 1, 1, 1, 1, 0, 0, 1, 0, 1, 1, 1, 1, 1, 1, 0, 1, 1, 1, 0, 1, 1, 1, 1, 0, 0, 0, 0, 0, 0, 0, 0, 0, 1, 0, 0, 0, 0, 1, 0, 0, 1, 1, 1, 1, 1, 0, 1, 0, 1, 0, 0, 1, 0, 0, 0, 1, 0, 0, 1, 1, 1, 0, 1, 0, 1, 0, 0, 0, 0, 1, 0, 1, 1, 0, 0, 0, 1, 0, 1, 1, 0, 0, 0, 0, 1, 0, 0, 0, 1, 0, 1, 0, 1, 0, 0, 0, 0, 0, 1, 0, 0, 1, 0, 1, 0, 1, 1, 1, 1, 0, 0, 0, 1, 1, 0, 1, 0, 0, 0, 1, 1, 0, 0, 1, 0, 0, 1, 0, 0, 0, 0, 0, 1, 0, 1, 0, 1, 1, 1, 0, 1, 1, 1, 1, 0, 1, 1, 0, 0, 0, 1, 1, 0, 1, 0, 0, 1, 0, 0, 0, 0, 0, 0, 0, 0, 0, 1, 1, 1, 0, 0, 0, 1, 1, 0, 0, 1, 1, 1, 0, 1, 0, 0, 1, 1, 0, 0, 1, 1, 0, 0, 1, 0, 0, 1, 0, 1, 0, 1, 1, 1, 1, 1, 0, 1, 1, 1, 0, 1, 1, 1, 0, 1, 1, 1, 0, 0, 1, 0, 0, 1, 0, 1, 0, 1, 1, 0, 1, 1, 0, 0, 1, 0, 1, 1, 0, 0, 0, 1, 1, 1, 0, 0, 0, 0, 0, 1, 0, 1, 0, 0, 0, 1, 1]\n"
          ]
        }
      ]
    }
  ]
}